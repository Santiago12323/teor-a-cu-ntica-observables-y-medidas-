{
 "cells": [
  {
   "cell_type": "markdown",
   "id": "e235f169-0165-4b86-bfac-9af2cdd357ed",
   "metadata": {},
   "source": [
    "## discucion de ejercicio 4.5.2"
   ]
  },
  {
   "cell_type": "markdown",
   "id": "4092d542-7e04-4f76-a043-45bcfcebd706",
   "metadata": {},
   "source": [
    "### Ejercicio 4.5.2:\n",
    "\n",
    "#### Parte 1: Escribir el vector de estado genérico para el sistema de dos partículas con espín:\n",
    "En la mecánica cuántica, el estado de un sistema de dos partículas con espín se puede representar utilizando el producto tensorial de los estados de cada partícula individual. Si denotamos los estados de espín de las partículas como $|\\uparrow\\rangle$ y $|\\downarrow\\rangle$, entonces el estado general del sistema de dos partículas se puede escribir como:\n",
    "\n",
    "$$ |\\psi\\rangle = |\\psi_1\\rangle \\otimes |\\psi_2\\rangle = (a|\\uparrow\\rangle + b|\\downarrow\\rangle) \\otimes (c|\\uparrow\\rangle + d|\\downarrow\\rangle) $$\n",
    "\n",
    "Donde $a, b, c,$ y $d$ son coeficientes complejos que describen las amplitudes de probabilidad de los distintos estados posibles.\n",
    "\n",
    "#### Parte 2: Generalizar a un sistema con $n$ partículas:\n",
    "Para un sistema de $n$ partículas, el estado general del sistema se puede expresar como el producto tensorial de los estados individuales de cada partícula:\n",
    "\n",
    "$$ |\\Psi\\rangle = |\\psi_1\\rangle \\otimes |\\psi_2\\rangle \\otimes \\ldots \\otimes |\\psi_n\\rangle $$\n",
    "\n",
    "Donde $|\\psi_i\\rangle$ es el estado de la i-ésima partícula, y el sistema total tiene $n$ partículas en total.\n",
    "\n",
    "#### Entrelazamiento y su implicación:\n",
    "El entrelazamiento es un fenómeno fundamental en la mecánica cuántica que ocurre cuando el estado de un sistema no puede ser descrito como una simple combinación de los estados de las partículas individuales. Esto significa que, incluso si conocemos los estados de las partículas individuales, no podemos describir completamente el estado del sistema sin tener en cuenta las correlaciones cuánticas entre ellas.\n",
    "\n",
    "#### Ejemplo que muestra la falta de descomposición del estado en productos tensoriales:\n",
    "El ejercicio propuesto implica que no todos los estados pueden ser descompuestos en productos tensoriales de estados individuales. Este ejemplo específico demuestra que incluso en sistemas simples, como el de dos partículas con espín, los estados generales pueden tener una estructura más compleja que no puede ser expresada mediante productos tensoriales simples.\n",
    "\n",
    "### Conclusión:\n",
    "En resumen, el ejercicio demuestra cómo los sistemas cuánticos pueden exhibir entrelazamiento, lo que significa que los estados generales no pueden ser siempre descompuestos en productos tensoriales de estados individuales. Esto desafía nuestra comprensión clásica de la composición de sistemas físicos y subraya la importancia del entrelazamiento en la mecánica cuántica.\n"
   ]
  },
  {
   "cell_type": "markdown",
   "id": "494b1755-fde5-4625-acad-831c39fc7038",
   "metadata": {},
   "source": [
    "## discucion de ejercicio 4.5.3"
   ]
  },
  {
   "cell_type": "markdown",
   "id": "d12a8a53-9809-49d4-9275-62517e620ecc",
   "metadata": {},
   "source": [
    "### Ejercicio 4.5.3:\n",
    "\n",
    "#### Escenario:\n",
    "\n",
    "Suponiendo el mismo escenario que en el Ejemplo 4.5.2, sea \\( |\\phi\\rangle = |x_0\\rangle \\otimes |y_1\\rangle + |x_1\\rangle \\otimes |y_1\\rangle. \\)\n",
    "\n",
    "Surge la pregunta: ¿Es este estado separable?\n",
    "\n",
    "#### Caso físico de Entrelazamiento:\n",
    "\n",
    "El entrelazamiento en la mecánica cuántica es análogo a las leyes de conservación vistas en la física clásica. Así como se conservan el momento, el momento angular y la energía-masa, también existe una ley de conservación para el espín total de un sistema cuántico.\n",
    "\n",
    "Consideremos un sistema cuántico, como una partícula compuesta, con un espín total de cero. Este sistema eventualmente puede dividirse en dos partículas diferentes, cada una con su propio espín. La ley de conservación del espín dicta que la suma de los espines de las dos partículas debe anularse mutuamente (Figura 4.8).\n",
    "\n",
    "#### Estados de Espín Entrelazados:\n",
    "\n",
    "Los estados de espín de las dos partículas se vuelven entrelazados. Esto significa que si medimos el espín de una partícula y lo encontramos en cierto estado, el espín de la otra partícula debe estar en un estado correspondiente para asegurar la conservación del espín total.\n",
    "\n",
    "Matemáticamente, esto puede describirse utilizando productos tensoriales. La base que describe la partícula izquierda es \\( B_L = \\{|\\uparrow_L\\rangle, |\\downarrow_L\\rangle\\} \\), y la base que describe la partícula derecha es \\( B_R = \\{|\\uparrow_R\\rangle, |\\downarrow_R\\rangle\\} \\). Los elementos de la base de todo el sistema son:\n",
    "\n",
    "\\[ \\{|\\uparrow_L\\rangle \\otimes |\\uparrow_R\\rangle, |\\uparrow_L\\rangle \\otimes |\\downarrow_R\\rangle, |\\downarrow_L\\rangle \\otimes |\\uparrow_R\\rangle, |\\downarrow_L\\rangle \\otimes |\\downarrow_R\\rangle\\} \\]\n",
    "\n",
    "#### Implicaciones del Entrelazamiento:\n",
    "\n",
    "El entrelazamiento juega un papel crucial en varias aplicaciones cuánticas. Es fundamental en el diseño de algoritmos (Capítulo 6), criptografía y teletransportación (Capítulo 9), y se discute más a fondo en relación con la decoherencia en el Capítulo 11.\n",
    "\n",
    "#### Lecciones Aprendidas:\n",
    "\n",
    "- El producto tensorial nos permite construir sistemas cuánticos complejos a partir de sistemas más simples.\n",
    "- El sistema resultante no puede analizarse únicamente en términos de estados pertenecientes a sus subsistemas. Introduce estados completamente nuevos que no pueden resolverse en sus constituyentes.\n"
   ]
  },
  {
   "cell_type": "code",
   "execution_count": null,
   "id": "3b3a7373-7730-4830-9897-99cbdbe92d0a",
   "metadata": {},
   "outputs": [],
   "source": []
  }
 ],
 "metadata": {
  "kernelspec": {
   "display_name": "Python 3 (ipykernel)",
   "language": "python",
   "name": "python3"
  },
  "language_info": {
   "codemirror_mode": {
    "name": "ipython",
    "version": 3
   },
   "file_extension": ".py",
   "mimetype": "text/x-python",
   "name": "python",
   "nbconvert_exporter": "python",
   "pygments_lexer": "ipython3",
   "version": "3.11.5"
  }
 },
 "nbformat": 4,
 "nbformat_minor": 5
}

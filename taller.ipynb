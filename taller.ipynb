{
 "cells": [
  {
   "cell_type": "markdown",
   "id": "8a06aa81-9471-4399-be12-e4d201511976",
   "metadata": {},
   "source": [
    "## taller teoria cuantica - Santiago Coronado Pinzón"
   ]
  },
  {
   "cell_type": "markdown",
   "id": "684d0369-dff4-4e17-9ab9-595bf6d99851",
   "metadata": {},
   "source": [
    "## SIMULE EL PRIMER SISTEMA CUÁNTICO DESCRITO EN LA SECCIÓN 4.1."
   ]
  },
  {
   "cell_type": "markdown",
   "id": "64dcd798-1980-402f-8ef8-8817138caee2",
   "metadata": {},
   "source": [
    "## primer punto . El sistema debe calcular la probabilidad de encontrarlo en una posición en particular."
   ]
  },
  {
   "cell_type": "code",
   "execution_count": 21,
   "id": "f4c54404-fda2-42be-bb70-56bad303936b",
   "metadata": {},
   "outputs": [
    {
     "name": "stdout",
     "output_type": "stream",
     "text": [
      "La probabilidad de encontrar el estado en la posición 1 es: 0.371584699453552\n",
      "La probabilidad de encontrar el estado en la posición 2 es: 0.5792349726775957\n",
      "La probabilidad de encontrar el estado en la posición 3 es: 0.04918032786885246\n",
      "suma total : 100.0 %\n"
     ]
    }
   ],
   "source": [
    "import numpy as np\n",
    "\n",
    "def probsistlineal(estado, pos):\n",
    "    if pos >= len(estado):\n",
    "        raise Exception(\"La posición excede el tamaño del estado\")\n",
    "    estado = normalizar(estado)\n",
    "    return modulo2(estado[pos])\n",
    "\n",
    "def modulo2(A):\n",
    "    return np.abs(A) ** 2\n",
    "\n",
    "def normalizar(datos):\n",
    "    acumulado = 0\n",
    "    for i in range(len(datos)):\n",
    "        acumulado += modulo2(datos[i])\n",
    "    acumulado = acumulado ** (0.5)\n",
    "    for i in range(len(datos)):\n",
    "        datos[i] /= acumulado\n",
    "    return datos\n",
    "\n",
    "# Ejemplo de entrada de datos con números complejos\n",
    "v1 = np.array([3j, 2+8j, 9+5j])  # Ejemplo de un estado cuántico con números complejos\n",
    "\n",
    "# Calcular la probabilidad de encontrarlo en una posición en particular\n",
    "posicion_deseada = 1 \n",
    "probabilidad = probsistlineal(v1, posicion_deseada)\n",
    "print(f\"La probabilidad de encontrar el estado en la posición {posicion_deseada} es: {probabilidad}\")\n",
    "\n",
    "probabilidad2 = probsistlineal(v1, 2)\n",
    "print(f\"La probabilidad de encontrar el estado en la posición {2} es: {probabilidad2}\")\n",
    "\n",
    "probabilidad3 = probsistlineal(v1, 0)\n",
    "print(f\"La probabilidad de encontrar el estado en la posición {3} es: {probabilidad3}\")\n",
    "\n",
    "print(\"suma total :\" , round((probabilidad + probabilidad2 + probabilidad3) *100 , 2),\"%\")"
   ]
  },
  {
   "cell_type": "markdown",
   "id": "3c590cf3-2bd4-49b5-b1bd-6709cc425101",
   "metadata": {},
   "source": [
    "## 2. El sistema si se le da otro vector Ket debe buscar la probabilidad de transitar del primer vector al segundo."
   ]
  },
  {
   "cell_type": "code",
   "execution_count": 18,
   "id": "fdfa8d92-5fb7-4339-bdf7-37241046a5a1",
   "metadata": {},
   "outputs": [
    {
     "name": "stdout",
     "output_type": "stream",
     "text": [
      "La probabilidad de transitar del primer vector al segundo es: 11.11%\n"
     ]
    }
   ],
   "source": [
    "import numpy as np\n",
    "\n",
    "def prob_transicion(estado1, estado2):\n",
    "    estado1 = normalizar(estado1)\n",
    "    estado2 = normalizar(estado2)\n",
    "    \n",
    "    if len(estado1) != len(estado2):\n",
    "        raise ValueError(\"Los vectores ket deben tener la misma longitud\")\n",
    "    \n",
    "    producto_interno = np.dot(estado1, np.conj(estado2))\n",
    "    probabilidad = np.abs(producto_interno) ** 2\n",
    "    \n",
    "    return round(probabilidad * 100, 2)  # Devolver la probabilidad en porcentaje, redondeada a dos decimales\n",
    "\n",
    "def normalizar(datos):\n",
    "    acumulado = 0\n",
    "    for i in range(len(datos)):\n",
    "        acumulado += modulo2(datos[i])\n",
    "    acumulado = acumulado ** (0.5)\n",
    "    for i in range(len(datos)):\n",
    "        datos[i] /= acumulado\n",
    "    return datos\n",
    "\n",
    "def modulo2(A):\n",
    "    return np.abs(A) ** 2\n",
    "\n",
    "# Ejemplo de entrada de datos con números complejos\n",
    "v1 = np.array([1+0j, 0+1j, 0-1j])  # Primer vector ket\n",
    "v2 = np.array([0+1j, 1+0j, 0-1j])  # Segundo vector ket\n",
    "\n",
    "# Calcular la probabilidad de transición entre los dos vectores ket\n",
    "probabilidad_transicion = prob_transicion(v1, v2)\n",
    "print(f\"La probabilidad de transitar del primer vector al segundo es: {probabilidad_transicion}%\")\n"
   ]
  },
  {
   "cell_type": "markdown",
   "id": "606e875d-be43-4662-9da7-c7af2c3656d5",
   "metadata": {},
   "source": [
    "## COMPLETE LOS RETOS DE PROGRAMACIÓN DEL CAPÍTULO 4."
   ]
  },
  {
   "cell_type": "markdown",
   "id": "0cf26ff7-9309-423b-80d2-2a767b916709",
   "metadata": {},
   "source": [
    "## 1. Amplitud de transición. El sistema puede recibir dos vectores y calcular la probabilidad de transitar de el uno al otro después de hacer la observación"
   ]
  },
  {
   "cell_type": "code",
   "execution_count": 22,
   "id": "0a98a3b1-b5b4-4489-af53-95a1610a43a1",
   "metadata": {},
   "outputs": [
    {
     "name": "stdout",
     "output_type": "stream",
     "text": [
      "La amplitud de transición entre los dos estados es: (0.3333333333333334+0j)\n"
     ]
    }
   ],
   "source": [
    "import numpy as np\n",
    "\n",
    "def amplitud_transicion(estado1, estado2):\n",
    "    estado1 = normalizar(estado1)\n",
    "    estado2 = normalizar(estado2)\n",
    "    \n",
    "    if len(estado1) != len(estado2):\n",
    "        raise ValueError(\"Los vectores ket deben tener la misma longitud\")\n",
    "    \n",
    "    producto_interno = np.dot(estado1, np.conj(estado2))\n",
    "    return producto_interno\n",
    "\n",
    "def normalizar(datos):\n",
    "    acumulado = 0\n",
    "    for i in range(len(datos)):\n",
    "        acumulado += modulo2(datos[i])\n",
    "    acumulado = acumulado ** (0.5)\n",
    "    for i in range(len(datos)):\n",
    "        datos[i] /= acumulado\n",
    "    return datos\n",
    "\n",
    "def modulo2(A):\n",
    "    return np.abs(A) ** 2\n",
    "\n",
    "# Ejemplo de entrada de datos con números complejos\n",
    "v1 = np.array([1+0j, 0+1j, 0-1j])  # Primer vector ket\n",
    "v2 = np.array([0+1j, 1+0j, 0-1j])  # Segundo vector ket\n",
    "\n",
    "# Calcular la amplitud de transición entre los dos vectores ket\n",
    "amplitud = amplitud_transicion(v1, v2)\n",
    "print(f\"La amplitud de transición entre los dos estados es: {amplitud}\")\n"
   ]
  },
  {
   "cell_type": "markdown",
   "id": "1f8e9188-9701-4f22-b984-ad8566eca082",
   "metadata": {},
   "source": [
    "## 2. Ahora con una matriz que describa un observable y un vector ket, el sistema revisa que la matriz sea hermitiana, y si lo es, calcula la media y la varianza del observable en el estado dado."
   ]
  },
  {
   "cell_type": "code",
   "execution_count": 30,
   "id": "12b6ee0d-d4bf-43e6-80b8-85d903d29c3d",
   "metadata": {},
   "outputs": [
    {
     "ename": "IndexError",
     "evalue": "invalid index to scalar variable.",
     "output_type": "error",
     "traceback": [
      "\u001b[1;31m---------------------------------------------------------------------------\u001b[0m",
      "\u001b[1;31mIndexError\u001b[0m                                Traceback (most recent call last)",
      "Cell \u001b[1;32mIn[30], line 43\u001b[0m\n\u001b[0;32m     40\u001b[0m ket \u001b[38;5;241m=\u001b[39m [(\u001b[38;5;241m1\u001b[39m\u001b[38;5;241m/\u001b[39mnp\u001b[38;5;241m.\u001b[39msqrt(\u001b[38;5;241m2\u001b[39m), \u001b[38;5;241m0\u001b[39m), (\u001b[38;5;241m0\u001b[39m, \u001b[38;5;241m1\u001b[39m\u001b[38;5;241m/\u001b[39mnp\u001b[38;5;241m.\u001b[39msqrt(\u001b[38;5;241m2\u001b[39m))]  \u001b[38;5;66;03m# Ejemplo de vector ket\u001b[39;00m\n\u001b[0;32m     42\u001b[0m media \u001b[38;5;241m=\u001b[39m media_observable(matriz_observable, ket)\n\u001b[1;32m---> 43\u001b[0m varianza \u001b[38;5;241m=\u001b[39m \u001b[43mvarianza_observable\u001b[49m\u001b[43m(\u001b[49m\u001b[43mmatriz_observable\u001b[49m\u001b[43m,\u001b[49m\u001b[43m \u001b[49m\u001b[43mket\u001b[49m\u001b[43m)\u001b[49m\n\u001b[0;32m     45\u001b[0m \u001b[38;5;28mprint\u001b[39m(\u001b[38;5;124m\"\u001b[39m\u001b[38;5;124mMedia del observable:\u001b[39m\u001b[38;5;124m\"\u001b[39m, media)\n\u001b[0;32m     46\u001b[0m \u001b[38;5;28mprint\u001b[39m(\u001b[38;5;124m\"\u001b[39m\u001b[38;5;124mVarianza del observable:\u001b[39m\u001b[38;5;124m\"\u001b[39m, varianza)\n",
      "Cell \u001b[1;32mIn[30], line 22\u001b[0m, in \u001b[0;36mvarianza_observable\u001b[1;34m(matriz_observable, ket)\u001b[0m\n\u001b[0;32m     20\u001b[0m identidad \u001b[38;5;241m=\u001b[39m np\u001b[38;5;241m.\u001b[39midentity(\u001b[38;5;28mlen\u001b[39m(matriz_observable), dtype\u001b[38;5;241m=\u001b[39m\u001b[38;5;28mcomplex\u001b[39m)\n\u001b[0;32m     21\u001b[0m media \u001b[38;5;241m=\u001b[39m media_observable(matriz_observable, ket)\n\u001b[1;32m---> 22\u001b[0m delta \u001b[38;5;241m=\u001b[39m restamatriz(matriz_observable, \u001b[43mmatrizporescalar\u001b[49m\u001b[43m(\u001b[49m\u001b[43mmedia\u001b[49m\u001b[43m,\u001b[49m\u001b[43m \u001b[49m\u001b[43midentidad\u001b[49m\u001b[43m)\u001b[49m)\n\u001b[0;32m     23\u001b[0m delta_cuadrado \u001b[38;5;241m=\u001b[39m multmatrices(delta, delta)\n\u001b[0;32m     24\u001b[0m varianza \u001b[38;5;241m=\u001b[39m producintern(accionvecmat(delta_cuadrado, ket), ket)\n",
      "Cell \u001b[1;32mIn[30], line 33\u001b[0m, in \u001b[0;36mmatrizporescalar\u001b[1;34m(A, B)\u001b[0m\n\u001b[0;32m     31\u001b[0m \u001b[38;5;28;01mfor\u001b[39;00m i \u001b[38;5;129;01min\u001b[39;00m \u001b[38;5;28mrange\u001b[39m(filas):\n\u001b[0;32m     32\u001b[0m     \u001b[38;5;28;01mfor\u001b[39;00m j \u001b[38;5;129;01min\u001b[39;00m \u001b[38;5;28mrange\u001b[39m(columnas):\n\u001b[1;32m---> 33\u001b[0m         mat[i][j] \u001b[38;5;241m=\u001b[39m \u001b[43mmultiplicacion\u001b[49m\u001b[43m(\u001b[49m\u001b[43mA\u001b[49m\u001b[43m,\u001b[49m\u001b[43m \u001b[49m\u001b[43mB\u001b[49m\u001b[43m[\u001b[49m\u001b[43mi\u001b[49m\u001b[43m]\u001b[49m\u001b[43m[\u001b[49m\u001b[43mj\u001b[49m\u001b[43m]\u001b[49m\u001b[43m)\u001b[49m\n\u001b[0;32m     35\u001b[0m \u001b[38;5;28;01mreturn\u001b[39;00m mat\n",
      "Cell \u001b[1;32mIn[21], line 34\u001b[0m, in \u001b[0;36mmultiplicacion\u001b[1;34m(A, B)\u001b[0m\n\u001b[0;32m     33\u001b[0m \u001b[38;5;28;01mdef\u001b[39;00m \u001b[38;5;21mmultiplicacion\u001b[39m(A, B):\n\u001b[1;32m---> 34\u001b[0m     real, imaginario \u001b[38;5;241m=\u001b[39m A[\u001b[38;5;241m0\u001b[39m] \u001b[38;5;241m*\u001b[39m \u001b[43mB\u001b[49m\u001b[43m[\u001b[49m\u001b[38;5;241;43m0\u001b[39;49m\u001b[43m]\u001b[49m \u001b[38;5;241m-\u001b[39m A[\u001b[38;5;241m1\u001b[39m] \u001b[38;5;241m*\u001b[39m B[\u001b[38;5;241m1\u001b[39m], A[\u001b[38;5;241m0\u001b[39m] \u001b[38;5;241m*\u001b[39m B[\u001b[38;5;241m1\u001b[39m] \u001b[38;5;241m+\u001b[39m A[\u001b[38;5;241m1\u001b[39m] \u001b[38;5;241m*\u001b[39m B[\u001b[38;5;241m0\u001b[39m]\n\u001b[0;32m     35\u001b[0m     \u001b[38;5;28;01mreturn\u001b[39;00m \u001b[38;5;28mround\u001b[39m(real, \u001b[38;5;241m3\u001b[39m), \u001b[38;5;28mround\u001b[39m(imaginario, \u001b[38;5;241m3\u001b[39m)\n",
      "\u001b[1;31mIndexError\u001b[0m: invalid index to scalar variable."
     ]
    }
   ],
   "source": []
  },
  {
   "cell_type": "markdown",
   "id": "7a26f629-e94a-4c8a-9e6c-22d4e300eb7d",
   "metadata": {},
   "source": [
    "## 3. El sistema calcula los valores propios del observable y la probabilidad de que el sistema transite a alguno de los vectores propios después de la observación."
   ]
  },
  {
   "cell_type": "code",
   "execution_count": 32,
   "id": "17a86cf3-7a23-453f-9406-8446d08831e2",
   "metadata": {},
   "outputs": [
    {
     "name": "stdout",
     "output_type": "stream",
     "text": [
      "Valores propios del observable: [(0.9999999999999998, -2.5270256719560606e-16), (3.9999999999999996, -1.9138664265445655e-16)]\n",
      "Probabilidad de transitar al vector propio 1 : (0.289, 0.288)\n",
      "Probabilidad de transitar al vector propio 2 : (-0.288, 0.865)\n"
     ]
    }
   ],
   "source": [
    "import numpy as np\n",
    "\n",
    "def vectsvalspropios(matriz):\n",
    "    valores_propios, vectores_propios = np.linalg.eig(matriz)\n",
    "    valores_propios_tuplas = [(np.real(valor), np.imag(valor)) for valor in valores_propios]\n",
    "    vectores_propios_tuplas = [[(np.real(vec[i]), np.imag(vec[i])) for i in range(len(vec))] for vec in vectores_propios]\n",
    "    return valores_propios_tuplas, vectores_propios_tuplas\n",
    "\n",
    "def transitar(estadoi, estadof):\n",
    "    estadoi = normalizar(estadoi)\n",
    "    estadof = normalizar(estadof)\n",
    "    return producintern(estadof, estadoi)\n",
    "\n",
    "# Ejemplo de uso:\n",
    "matriz_observable = np.array([[2+0j, 1-1j], [1+1j, 3+0j]])  # Ejemplo de matriz hermitiana\n",
    "valores_propios, vectores_propios = vectsvalspropios(matriz_observable)\n",
    "\n",
    "print(\"Valores propios del observable:\", valores_propios)\n",
    "for i, vector in enumerate(vectores_propios):\n",
    "    print(\"Probabilidad de transitar al vector propio\", i+1, \":\", transitar(ket, vector))\n"
   ]
  },
  {
   "cell_type": "markdown",
   "id": "56a184fc-3b52-4108-af54-ff59c91b08ec",
   "metadata": {},
   "source": [
    "## 4. Se considera la dinámica del sistema. Ahora con una serie de matrices Un el sistema calcula el estado final a partir de un estado inicial."
   ]
  },
  {
   "cell_type": "code",
   "execution_count": 27,
   "id": "197c47f3-e33d-4d01-b5c4-f944c14c0f1d",
   "metadata": {},
   "outputs": [
    {
     "name": "stdout",
     "output_type": "stream",
     "text": [
      "Estado final después de la dinámica del sistema: [(0.0, 0.0), (0.0, 0.707), (0.707, 0.0), (0.0, 0.0)]\n"
     ]
    }
   ],
   "source": [
    "def dinamicasistema(matrices_unitarias, estado_inicial):\n",
    "    estado_actual = estado_inicial\n",
    "    for matriz_unitaria in matrices_unitarias:\n",
    "        if not unitaria(matriz_unitaria):\n",
    "            raise ValueError(\"Una de las matrices proporcionadas no es unitaria.\")\n",
    "        estado_actual = accionvecmat(matriz_unitaria, estado_actual)\n",
    "    return estado_actual\n",
    "\n",
    "# Ejemplo de uso:\n",
    "matrices_unitarias = [\n",
    "    [[(0, 0), (1 / (2**(1/2)), 0), (1 / (2**(1/2)), 0), (0, 0)],\n",
    "     [(0, 1 / (2**(1/2))), (0, 0), (0, 0), (1 / (2**(1/2)), 0)],\n",
    "     [(1 / (2**(1/2)), 0), (0, 0), (0, 0), (0, 1 / (2**(1/2)))],\n",
    "     [(0, 0), (1 / (2**(1/2)), 0), (-1 / (2**(1/2)), 0), (0, 0)]],\n",
    "    # Otras matrices unitarias\n",
    "]\n",
    "\n",
    "estado_inicial = [(1, 0), (0, 0), (0, 0), (0, 0)]  # Ejemplo de estado inicial\n",
    "estado_final = dinamicasistema(matrices_unitarias, estado_inicial)\n",
    "print(\"Estado final después de la dinámica del sistema:\", estado_final)\n"
   ]
  },
  {
   "cell_type": "markdown",
   "id": "88a22f96-ba9b-42ce-b74a-c23e4ac10fcd",
   "metadata": {},
   "source": [
    "## REALICE LOS SIGUIENTES PROBLEMAS E INCLUYALOS COMO EJEMPLOS"
   ]
  },
  {
   "cell_type": "markdown",
   "id": "d4552e09-8209-43b1-8b4c-914c9d0b9219",
   "metadata": {},
   "source": [
    "## Modele en su librería los problemas\n",
    "## 4.3.1\n"
   ]
  },
  {
   "cell_type": "code",
   "execution_count": 10,
   "id": "2d06c651-1961-47c1-9057-793ae43bae45",
   "metadata": {},
   "outputs": [
    {
     "name": "stdout",
     "output_type": "stream",
     "text": [
      "Ejercicio 4.3.1\n",
      "Da el siguiente resultado despues de la observacion None\n",
      "Los valores propios son  [(0.9999999999999996, 0.0), (-0.9999999999999999, 0.0)] \n",
      "vectores poropios son:  [[(0.7071067811865474, -0.0), (0.7071067811865475, 0.0)], [(0.7071067811865476, 0.0), (-0.7071067811865475, -0.0)]]\n"
     ]
    }
   ],
   "source": [
    "def Ejercicio431():\n",
    "    \n",
    "    v1 = [(1, 0), (0, 0)]\n",
    "    observable_x = [[(0, 0), (1, 0)], [(1, 0), (0, 0)]]\n",
    "    vr = accionvecmat(observable_x, v1)\n",
    "    vals, vects_x = vectsvalspropios(observable_x)\n",
    "    print(\"Da el siguiente resultado despues de la observacion\", vr)\n",
    "    print(\"Los valores propios son \", vals, \"\\nvectores poropios son: \", vects_x)\n",
    "    \n",
    "print(\"Ejercicio 4.3.1\")\n",
    "Ejercicio431()"
   ]
  },
  {
   "cell_type": "markdown",
   "id": "e7dd8445-21b8-47b5-8e6c-2d4d848cdb09",
   "metadata": {},
   "source": [
    "## 4.3.2"
   ]
  },
  {
   "cell_type": "code",
   "execution_count": 9,
   "id": "7836d741-3437-4724-826b-31cd7896d0db",
   "metadata": {},
   "outputs": [
    {
     "name": "stdout",
     "output_type": "stream",
     "text": [
      "Ejercicio 4.3.2\n",
      "(0.707, 0.0)\n",
      "(0.707, 0.0)\n"
     ]
    }
   ],
   "source": [
    "import numpy as np\n",
    "\n",
    "def sumacomplejos(A, B):\n",
    "    real, imaginario = A[0] + B[0], A[1] + B[1]\n",
    "    return real, imaginario\n",
    "\n",
    "def conjudado(A):\n",
    "    return A[0], A[1] * -1\n",
    "    \n",
    "def multiplicacion(A, B):\n",
    "    real, imaginario = A[0] * B[0] - A[1] * B[1], A[0] * B[1] + A[1] * B[0]\n",
    "    return round(real, 3), round(imaginario, 3)\n",
    "    \n",
    "def producintern(A, B):\n",
    "    res = (0, 0)\n",
    "    for i in range(len(A)):\n",
    "        res = sumacomplejos(res, multiplicacion(conjudado(A[i]), B[i]))\n",
    "\n",
    "    return res\n",
    "def modulo2(A):\n",
    "    return (A[0] ** 2 + A[1] ** 2)\n",
    "\n",
    "def normalizar(datos):\n",
    "    acumulado = 0\n",
    "    for i in range(len(datos)):\n",
    "        acumulado += modulo2(datos[i])\n",
    "    acumulado = acumulado ** (0.5)\n",
    "    for i in range(len(datos)):\n",
    "        datos[i] = multiplicacion((1 / acumulado, 0), datos[i])\n",
    "    return datos\n",
    "\n",
    "def accionvecmat(A, B):\n",
    "    filA = len(A)\n",
    "    colA = len(A[0])\n",
    "    filB = len(B)\n",
    "\n",
    "    if colA == filB:\n",
    "        mat = [(0, 0) for j in range(filB)]\n",
    "\n",
    "    for j in range(filA):\n",
    "        for k in range(filB):\n",
    "            mat[j] = sumacomplejos(mat[j], multiplicacion(A[j][k], B[k]))\n",
    "\n",
    "def transitar(estadoi, estadof):\n",
    "    estadoi = normalizar(estadoi)\n",
    "    estadof = normalizar(estadof)\n",
    "    return producintern(estadof, estadoi)    \n",
    "    return mat\n",
    "def vectsvalspropios(matriz):\n",
    "    matriz_compleja = np.array([[complex(a[0], a[1]) for a in fila] for fila in matriz], dtype=complex)\n",
    "    valores_propios, vectores_propios = np.linalg.eig(matriz_compleja)\n",
    "    valores_propios_tuplas = [(np.real(valor), np.imag(valor)) for valor in valores_propios]\n",
    "    vectores_propios_tuplas = [[(np.real(vec[i]), np.imag(vec[i])) for i in range(len(vec))] for vec in vectores_propios]\n",
    "    return valores_propios_tuplas, vectores_propios_tuplas\n",
    "\n",
    "def Ejercicio432():\n",
    "    v1 = [(1, 0), (0, 0)]\n",
    "    observable = [[(0, 0), (1, 0)], [(1, 0), (0, 0)]]\n",
    "    vals, vects = vectsvalspropios(observable)\n",
    "    for i in range(len(vects)):\n",
    "        print(transitar(v1,vects[i]))\n",
    "print(\"Ejercicio 4.3.2\")\n",
    "Ejercicio432()"
   ]
  },
  {
   "cell_type": "markdown",
   "id": "752adb34-f054-4b6e-98c6-2f23aa5e067a",
   "metadata": {},
   "source": [
    "## 4.4.1"
   ]
  },
  {
   "cell_type": "code",
   "execution_count": 20,
   "id": "d06a22c8-f6bd-46c9-81c3-1497961c67e3",
   "metadata": {},
   "outputs": [
    {
     "name": "stdout",
     "output_type": "stream",
     "text": [
      "Ejercicio 4.4.1\n",
      "True\n"
     ]
    }
   ],
   "source": [
    "def multiplicacion(A, B):\n",
    "    real = A[0] * B[0] - A[1] * B[1]\n",
    "    imaginario = A[0] * B[1] + A[1] * B[0]\n",
    "    return round(real, 3), round(imaginario, 3)\n",
    "\n",
    "def sumacomplejos(A, B):\n",
    "    real = A[0] + B[0]\n",
    "    imaginario = A[1] + B[1]\n",
    "    return round(real, 3), round(imaginario, 3)\n",
    "\n",
    "def conjudado(A):\n",
    "    return A[0], -A[1]\n",
    "\n",
    "def transpuesta(A):\n",
    "    return [[A[j][i] for j in range(len(A))] for i in range(len(A[0]))]\n",
    "\n",
    "def unitaria(A):\n",
    "    res = multmatrices(daga(A), A)\n",
    "    mat = [[(0,0) for k in range(len(res[0]))] for j in range(len(res))]\n",
    "    for j in range(len(res)):\n",
    "        for k in range(len(res[0])):\n",
    "            if j == k:\n",
    "                mat[j][k] = (1,0)\n",
    "            else:\n",
    "                mat[j][k] = (0,0)\n",
    "    return mat == res\n",
    "\n",
    "def multmatrices(A, B):\n",
    "    filA = len(A)\n",
    "    colA = len(A[0])\n",
    "    filB = len(B)\n",
    "    colB = len(B[0])\n",
    "    if colA == filB:\n",
    "        mat = [[(0, 0) for k in range(colB)] for j in range(filA)]\n",
    "        for j in range(filA):\n",
    "            for k in range(colB):\n",
    "                for a in range(colA):\n",
    "                    mat[j][k] = sumacomplejos(mat[j][k], multiplicacion(A[j][a], B[a][k]))\n",
    "        return mat\n",
    "    else:\n",
    "        return \"error\"\n",
    "\n",
    "def daga(A):\n",
    "    try:\n",
    "        fil = len(A)\n",
    "        col = len(A[0])\n",
    "        A = transpuesta(A)\n",
    "        for j in range(fil):\n",
    "            for k in range(col):\n",
    "                A[j][k] = conjudado(A[j][k])\n",
    "        return A\n",
    "    except:\n",
    "        fil = int(len(A))\n",
    "        for j in range(fil):\n",
    "            A[j] = conjudado(A[j])\n",
    "        return A\n",
    "\n",
    "def Ejercicio441():\n",
    "    U1 = [[(0, 0), (1, 0)], [(1, 0), (0, 0)]]\n",
    "    U2 = [[((2**(1/2))/2, 0), ((2**(1/2))/2, 0)], [((2**(1/2))/2, 0), (-(2**(1/2))/2, 0)]]\n",
    "    if unitaria(U1) and unitaria(U2):\n",
    "        print(unitaria(multmatrices(U1,U2)))\n",
    "\n",
    "print(\"Ejercicio 4.4.1\")\n",
    "Ejercicio441()\n"
   ]
  },
  {
   "cell_type": "markdown",
   "id": "1211b140-0c40-482e-a916-8add53167fd2",
   "metadata": {},
   "source": [
    "## 4.4.2"
   ]
  },
  {
   "cell_type": "code",
   "execution_count": 21,
   "id": "e88c1332-0d60-45be-a39d-f048b156cf75",
   "metadata": {},
   "outputs": [
    {
     "name": "stdout",
     "output_type": "stream",
     "text": [
      "Ejercicio 4.4.2\n",
      "[(0.0, 0.0), (-0.708, 0.708), (0.0, 0.0), (0.0, 0.0)]\n",
      "La probabilidad es de 0\n"
     ]
    }
   ],
   "source": [
    "import numpy as np\n",
    "\n",
    "def multmatrices(A, B):\n",
    "    filA = len(A)\n",
    "    colA = len(A[0])\n",
    "    filB = len(B)\n",
    "    colB = len(B[0])\n",
    "    if colA == filB:\n",
    "        mat = [[(0, 0) for k in range(colB)] for j in range(filA)]\n",
    "        for j in range(filA):\n",
    "            for k in range(colB):\n",
    "                for a in range(colA):\n",
    "                    mat[j][k] = sumacomplejos(mat[j][k], multiplicacion(A[j][a], B[a][k]))\n",
    "        return mat\n",
    "    else:\n",
    "        return \"error\"\n",
    "\n",
    "def unitaria(A):\n",
    "    res = multmatrices(daga(A), A)\n",
    "    mat = [[(0,0) for k in range(len(res[0]))] for j in range(len(res))]\n",
    "    for j in range(len(res)):\n",
    "        for k in range(len(res[0])):\n",
    "            if j == k:\n",
    "                mat[j][k] = (1,0)\n",
    "            else:\n",
    "                mat[j][k] = (0,0)\n",
    "    return mat == res\n",
    "\n",
    "def sumacomplejos(A, B):\n",
    "    real, imaginario = A[0] + B[0], A[1] + B[1]\n",
    "    return real, imaginario\n",
    "\n",
    "def multiplicacion(A, B):\n",
    "    real, imaginario = A[0] * B[0] - A[1] * B[1], A[0] * B[1] + A[1] * B[0]\n",
    "    return round(real, 3), round(imaginario, 3)\n",
    "\n",
    "def conjudado(A):\n",
    "    return A[0], A[1] * -1\n",
    "\n",
    "def daga(A):\n",
    "    try:\n",
    "        fil = len(A)\n",
    "        col = len(A[0])\n",
    "        A = transpuesta(A)\n",
    "        for j in range(fil):\n",
    "            for k in range(col):\n",
    "                A[j][k] = conjudado(A[j][k])\n",
    "        return A\n",
    "    except:\n",
    "        fil = int(len(A))\n",
    "        for j in range(fil):\n",
    "            A[j] = conjudado(A[j])\n",
    "        return A\n",
    "\n",
    "def transpuesta(A):\n",
    "    try:\n",
    "        fil = int(len(A))\n",
    "        col = int(len(A[0]))\n",
    "        mat = [[(0, 0) for k in range(fil)] for j in range(col)]\n",
    "        for j in range(col):\n",
    "            for k in range(fil):\n",
    "                mat[j][k] = A[k][j]\n",
    "        return mat\n",
    "    except:\n",
    "        return A\n",
    "\n",
    "def dinamicasistema(munitaria,estado, cl):\n",
    "    if unitaria(munitaria):\n",
    "        for i in range(cl):\n",
    "            estado = accionvecmat(munitaria, estado)\n",
    "        return estado\n",
    "    else:\n",
    "        raise Exception(\"No se puede realizar la operacion debido a que la matriz no es unitaria\")\n",
    "\n",
    "def accionvecmat(A, B):\n",
    "    filA = len(A)\n",
    "    colA = len(A[0])\n",
    "    filB = len(B)\n",
    "\n",
    "    if colA == filB:\n",
    "        mat = [(0, 0) for j in range(filB)]\n",
    "\n",
    "    for j in range(filA):\n",
    "        for k in range(filB):\n",
    "            mat[j] = sumacomplejos(mat[j], multiplicacion(A[j][k], B[k]))\n",
    "    return mat\n",
    "\n",
    "def Ejercicio442():\n",
    "    print(dinamicasistema([[(0, 0), (1/(2**(1/2)), 0), (1/(2**(1/2)), 0), (0, 0)],\n",
    "                        [(0,1/(2**(1/2))), (0, 0), (0, 0), (1/(2**(1/2)), 0)],\n",
    "                        [(1 / (2 ** (1 / 2)), 0), (0, 0), (0, 0), (0,1 / (2 ** (1 / 2)))],\n",
    "                        [(0, 0), (1/(2**(1/2)), 0), (-1/(2**(1/2)), 0), (0, 0)]],\n",
    "                        [(1,0), (0,0), (0,0), (0,0)], 3))\n",
    "    print(\"La probabilidad es de 0\")\n",
    "\n",
    "print(\"Ejercicio 4.4.2\")\n",
    "Ejercicio442()\n"
   ]
  },
  {
   "cell_type": "code",
   "execution_count": null,
   "id": "9ca2ded8-ed89-41ce-a07d-513f1697d2be",
   "metadata": {},
   "outputs": [],
   "source": []
  }
 ],
 "metadata": {
  "kernelspec": {
   "display_name": "Python 3 (ipykernel)",
   "language": "python",
   "name": "python3"
  },
  "language_info": {
   "codemirror_mode": {
    "name": "ipython",
    "version": 3
   },
   "file_extension": ".py",
   "mimetype": "text/x-python",
   "name": "python",
   "nbconvert_exporter": "python",
   "pygments_lexer": "ipython3",
   "version": "3.11.5"
  }
 },
 "nbformat": 4,
 "nbformat_minor": 5
}

{
 "cells": [
  {
   "cell_type": "markdown",
   "id": "8a06aa81-9471-4399-be12-e4d201511976",
   "metadata": {},
   "source": [
    "## taller teoria cuantica - Santiago Coronado Pinzón"
   ]
  },
  {
   "cell_type": "markdown",
   "id": "684d0369-dff4-4e17-9ab9-595bf6d99851",
   "metadata": {},
   "source": [
    "## SIMULE EL PRIMER SISTEMA CUÁNTICO DESCRITO EN LA SECCIÓN 4.1."
   ]
  },
  {
   "cell_type": "markdown",
   "id": "64dcd798-1980-402f-8ef8-8817138caee2",
   "metadata": {},
   "source": [
    "## primer punto . El sistema debe calcular la probabilidad de encontrarlo en una posición en particular."
   ]
  },
  {
   "cell_type": "code",
   "execution_count": 21,
   "id": "f4c54404-fda2-42be-bb70-56bad303936b",
   "metadata": {},
   "outputs": [
    {
     "name": "stdout",
     "output_type": "stream",
     "text": [
      "La probabilidad de encontrar el estado en la posición 1 es: 0.371584699453552\n",
      "La probabilidad de encontrar el estado en la posición 2 es: 0.5792349726775957\n",
      "La probabilidad de encontrar el estado en la posición 3 es: 0.04918032786885246\n",
      "suma total : 100.0 %\n"
     ]
    }
   ],
   "source": [
    "import numpy as np\n",
    "\n",
    "def probsistlineal(estado, pos):\n",
    "    if pos >= len(estado):\n",
    "        raise Exception(\"La posición excede el tamaño del estado\")\n",
    "    estado = normalizar(estado)\n",
    "    return modulo2(estado[pos])\n",
    "\n",
    "def modulo2(A):\n",
    "    return np.abs(A) ** 2\n",
    "\n",
    "def normalizar(datos):\n",
    "    acumulado = 0\n",
    "    for i in range(len(datos)):\n",
    "        acumulado += modulo2(datos[i])\n",
    "    acumulado = acumulado ** (0.5)\n",
    "    for i in range(len(datos)):\n",
    "        datos[i] /= acumulado\n",
    "    return datos\n",
    "\n",
    "# Ejemplo de entrada de datos con números complejos\n",
    "v1 = np.array([3j, 2+8j, 9+5j])  # Ejemplo de un estado cuántico con números complejos\n",
    "\n",
    "# Calcular la probabilidad de encontrarlo en una posición en particular\n",
    "posicion_deseada = 1 \n",
    "probabilidad = probsistlineal(v1, posicion_deseada)\n",
    "print(f\"La probabilidad de encontrar el estado en la posición {posicion_deseada} es: {probabilidad}\")\n",
    "\n",
    "probabilidad2 = probsistlineal(v1, 2)\n",
    "print(f\"La probabilidad de encontrar el estado en la posición {2} es: {probabilidad2}\")\n",
    "\n",
    "probabilidad3 = probsistlineal(v1, 0)\n",
    "print(f\"La probabilidad de encontrar el estado en la posición {3} es: {probabilidad3}\")\n",
    "\n",
    "print(\"suma total :\" , round((probabilidad + probabilidad2 + probabilidad3) *100 , 2),\"%\")"
   ]
  },
  {
   "cell_type": "markdown",
   "id": "3c590cf3-2bd4-49b5-b1bd-6709cc425101",
   "metadata": {},
   "source": [
    "## 2. El sistema si se le da otro vector Ket debe buscar la probabilidad de transitar del primer vector al segundo."
   ]
  },
  {
   "cell_type": "code",
   "execution_count": 18,
   "id": "fdfa8d92-5fb7-4339-bdf7-37241046a5a1",
   "metadata": {},
   "outputs": [
    {
     "name": "stdout",
     "output_type": "stream",
     "text": [
      "La probabilidad de transitar del primer vector al segundo es: 11.11%\n"
     ]
    }
   ],
   "source": [
    "import numpy as np\n",
    "\n",
    "def prob_transicion(estado1, estado2):\n",
    "    estado1 = normalizar(estado1)\n",
    "    estado2 = normalizar(estado2)\n",
    "    \n",
    "    if len(estado1) != len(estado2):\n",
    "        raise ValueError(\"Los vectores ket deben tener la misma longitud\")\n",
    "    \n",
    "    producto_interno = np.dot(estado1, np.conj(estado2))\n",
    "    probabilidad = np.abs(producto_interno) ** 2\n",
    "    \n",
    "    return round(probabilidad * 100, 2)  # Devolver la probabilidad en porcentaje, redondeada a dos decimales\n",
    "\n",
    "def normalizar(datos):\n",
    "    acumulado = 0\n",
    "    for i in range(len(datos)):\n",
    "        acumulado += modulo2(datos[i])\n",
    "    acumulado = acumulado ** (0.5)\n",
    "    for i in range(len(datos)):\n",
    "        datos[i] /= acumulado\n",
    "    return datos\n",
    "\n",
    "def modulo2(A):\n",
    "    return np.abs(A) ** 2\n",
    "\n",
    "# Ejemplo de entrada de datos con números complejos\n",
    "v1 = np.array([1+0j, 0+1j, 0-1j])  # Primer vector ket\n",
    "v2 = np.array([0+1j, 1+0j, 0-1j])  # Segundo vector ket\n",
    "\n",
    "# Calcular la probabilidad de transición entre los dos vectores ket\n",
    "probabilidad_transicion = prob_transicion(v1, v2)\n",
    "print(f\"La probabilidad de transitar del primer vector al segundo es: {probabilidad_transicion}%\")\n"
   ]
  },
  {
   "cell_type": "markdown",
   "id": "606e875d-be43-4662-9da7-c7af2c3656d5",
   "metadata": {},
   "source": [
    "## COMPLETE LOS RETOS DE PROGRAMACIÓN DEL CAPÍTULO 4."
   ]
  },
  {
   "cell_type": "code",
   "execution_count": null,
   "id": "60c3dbb0-2378-44c8-b320-863094ea3175",
   "metadata": {},
   "outputs": [],
   "source": []
  }
 ],
 "metadata": {
  "kernelspec": {
   "display_name": "Python 3 (ipykernel)",
   "language": "python",
   "name": "python3"
  },
  "language_info": {
   "codemirror_mode": {
    "name": "ipython",
    "version": 3
   },
   "file_extension": ".py",
   "mimetype": "text/x-python",
   "name": "python",
   "nbconvert_exporter": "python",
   "pygments_lexer": "ipython3",
   "version": "3.11.5"
  }
 },
 "nbformat": 4,
 "nbformat_minor": 5
}
